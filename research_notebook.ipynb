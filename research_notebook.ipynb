{
  "nbformat": 4,
  "nbformat_minor": 0,
  "metadata": {
    "colab": {
      "name": "Image-classification-ZSL_research_notebook.ipynb",
      "provenance": [],
      "collapsed_sections": [],
      "toc_visible": true
    },
    "kernelspec": {
      "name": "python3",
      "display_name": "Python 3"
    },
    "accelerator": "GPU"
  },
  "cells": [
    {
      "cell_type": "markdown",
      "metadata": {
        "id": "6aHyFL-hng_2"
      },
      "source": [
        "# ***Image classification with zero shot learning***\r\n",
        "This notebook shows the process and orientation in building an image classifier using deep learning and zero shot learning.\r\n",
        "\r\n",
        "This notebook was created by: Leor Ariel Rose and Yahav Bar David."
      ]
    },
    {
      "cell_type": "markdown",
      "metadata": {
        "id": "Bt0rJ3dqoSHO"
      },
      "source": [
        "## ***Import Libraries***\r\n",
        "\r\n",
        "Before we begin let's import all the necessary libraries for this notebook."
      ]
    },
    {
      "cell_type": "code",
      "metadata": {
        "id": "fGUxiV7zXAm5"
      },
      "source": [
        "import os\r\n",
        "import numpy as np\r\n",
        "import zipfile\r\n",
        "import cv2\r\n",
        "from matplotlib import pyplot as plt\r\n",
        "from urllib import request\r\n",
        "from tensorflow.keras.datasets import cifar100 as cifar100\r\n",
        "from tensorflow.keras.optimizers import Adam\r\n",
        "from tensorflow.keras.models import Sequential, load_model\r\n",
        "from tensorflow.keras.layers import Dense, Dropout\r\n",
        "from tensorflow.keras.layers import Conv2D, BatchNormalization,\\\r\n",
        "MaxPooling2D, Activation, Flatten\r\n",
        "from tensorflow.keras.preprocessing.text import text_to_word_sequence\r\n",
        "from gensim.models import KeyedVectors\r\n",
        "from gensim.models.keyedvectors import Word2VecKeyedVectors\r\n",
        "from sklearn.metrics.pairwise import cosine_similarity\r\n",
        "from typing import List, Tuple"
      ],
      "execution_count": 1,
      "outputs": []
    },
    {
      "cell_type": "markdown",
      "metadata": {
        "id": "ImfhSl6HohsI"
      },
      "source": [
        "## ***Data Download and Loading***\r\n",
        "\r\n",
        "For our zero shot learning we need to download fast text vectors from [***facebook pre-trained english word vectors***](https://fasttext.cc/docs/en/english-vectors.html).\r\n",
        "\r\n",
        "Fast text vectors is a dataset of 1 million word vectors trained on Wikipedia 2017, UMBC webbase corpus and statmt.org news dataset with a total of 16B tokens. each word if it's in the dataset has a vector of length 300 that represents that word."
      ]
    },
    {
      "cell_type": "code",
      "metadata": {
        "id": "0hCSIPFpWlkb"
      },
      "source": [
        "def download_fast_text_vectors() -> None:\r\n",
        "    \"\"\"\r\n",
        "    Download fast text vectors file data\r\n",
        "    \"\"\"\r\n",
        "    url_download: str = \"https://dl.fbaipublicfiles.com/fasttext/\"\r\n",
        "    url_download += \"vectors-english/wiki-news-300d-1M.vec.zip\"\r\n",
        "    zip_name: str = 'wiki-news-300d-1M.vec.zip'\r\n",
        "    file_name: str = \"wiki-news-300d-1M.vec\"\r\n",
        "\r\n",
        "    # check if vectors exist already\r\n",
        "    if not (os.path.exists(file_name) and os.path.isfile(file_name)):\r\n",
        "        # download vectors zip\r\n",
        "        with request.urlopen(url_download) as link_file:\r\n",
        "            with open(zip_name, 'wb') as out_file:\r\n",
        "                out_file.write(link_file.read())\r\n",
        "        # extract vectors\r\n",
        "        with zipfile.ZipFile(\"wiki-news-300d-1M.vec.zip\", 'r') as zip_ref:\r\n",
        "            zip_ref.extractall('.')\r\n",
        "\r\n",
        "        # Delete vectors zip\r\n",
        "        os.remove(zip_name)\r\n",
        "\r\n",
        "\r\n",
        "def load_fast_text_vectors(\r\n",
        "    file_name: str) -> Word2VecKeyedVectors:\r\n",
        "    \"\"\"\r\n",
        "    Load fast text vectors file data\r\n",
        "    Parameters:\r\n",
        "        file_name (str): file name of word embedding vectors\r\n",
        "    returns:\r\n",
        "        Word2VecKeyedVectors: fast text vectors\r\n",
        "    Raises:\r\n",
        "        IOError: if file name doesn't exist\r\n",
        "    \"\"\"\r\n",
        "    if os.path.isfile(file_name):\r\n",
        "        return KeyedVectors.load_word2vec_format(\r\n",
        "            file_name, binary=False, encoding='utf8')\r\n",
        "    error: str = \"Given fast text vectors file\"\r\n",
        "    error += f\"name does not exist: {file_name}\"\r\n",
        "    raise IOError(error)"
      ],
      "execution_count": 2,
      "outputs": []
    },
    {
      "cell_type": "code",
      "metadata": {
        "id": "pqm7UHntpuB4"
      },
      "source": [
        "download_fast_text_vectors()\r\n",
        "fast_text_vectors: Word2VecKeyedVectors =\\\r\n",
        " load_fast_text_vectors(\"wiki-news-300d-1M.vec\")"
      ],
      "execution_count": 3,
      "outputs": []
    },
    {
      "cell_type": "markdown",
      "metadata": {
        "id": "Mgo77zzFGd3J"
      },
      "source": [
        "For our image we will use the cifar100 dataset. This dataset is large, consisting of 100 image classes, with 600 images per class.\r\n",
        "Each image is 32x32x3 (3 color), and the 600 images are divided into 500 training, and 100 test for each class."
      ]
    },
    {
      "cell_type": "code",
      "metadata": {
        "id": "hzmG4ym7rSTL",
        "colab": {
          "base_uri": "https://localhost:8080/"
        },
        "outputId": "d28bf808-ba4b-47e1-9e62-67cd3b791ea3"
      },
      "source": [
        "(x_train, y_train), (x_test, y_test) = cifar100.load_data(label_mode=\"fine\")"
      ],
      "execution_count": 4,
      "outputs": [
        {
          "output_type": "stream",
          "text": [
            "Downloading data from https://www.cs.toronto.edu/~kriz/cifar-100-python.tar.gz\n",
            "169009152/169001437 [==============================] - 2s 0us/step\n"
          ],
          "name": "stdout"
        }
      ]
    },
    {
      "cell_type": "markdown",
      "metadata": {
        "id": "mfUfz0nBpDGY"
      },
      "source": [
        "## ***Preprocess and Data Exploration***"
      ]
    },
    {
      "cell_type": "markdown",
      "metadata": {
        "id": "9tFRlZ2lBq11"
      },
      "source": [
        "### ***Cifar100***\r\n",
        "\r\n",
        "The cifar100 dataset includes 50000 image in test-set and 10000 images in the train-set, lets validate it:\r\n"
      ]
    },
    {
      "cell_type": "code",
      "metadata": {
        "colab": {
          "base_uri": "https://localhost:8080/"
        },
        "id": "0Qj0k3sPryj4",
        "outputId": "d280a5bc-0a16-4779-ea49-9312a90a2510"
      },
      "source": [
        "print(x_train.shape)\r\n",
        "print(y_train.shape)\r\n",
        "print(x_test.shape)\r\n",
        "print(y_test.shape)"
      ],
      "execution_count": 5,
      "outputs": [
        {
          "output_type": "stream",
          "text": [
            "(50000, 32, 32, 3)\n",
            "(50000, 1)\n",
            "(10000, 32, 32, 3)\n",
            "(10000, 1)\n"
          ],
          "name": "stdout"
        }
      ]
    },
    {
      "cell_type": "markdown",
      "metadata": {
        "id": "obtwrQ7qPppi"
      },
      "source": [
        "Each label of an image is a number representing its class, let's define the classes:"
      ]
    },
    {
      "cell_type": "code",
      "metadata": {
        "id": "QcyfQU4QPoF-"
      },
      "source": [
        "classes: List[str] = [\r\n",
        "  'apple', 'aquarium_fish', 'baby', 'bear', 'beaver', \r\n",
        "  'bed', 'bee', 'beetle', 'bicycle', 'bottle', 'bowl',\r\n",
        "  'boy', 'bridge', 'bus', 'butterfly', 'camel','can',\r\n",
        "  'castle', 'caterpillar', 'cattle', 'chair', \r\n",
        "  'chimpanzee', 'clock','cloud', 'cockroach',\r\n",
        "  'couch', 'crab', 'crocodile', 'cup', 'dinosaur',\r\n",
        "  'dolphin', 'elephant', 'flatfish', 'forest', 'fox',\r\n",
        "  'girl', 'hamster', 'house', 'kangaroo', \r\n",
        "  'computer_keyboard', 'lamp', 'lawn_mower', \r\n",
        "  'leopard', 'lion', 'lizard', 'lobster', 'man', \r\n",
        "  'maple_tree','motorcycle', 'mountain', 'mouse', 'mushroom', \r\n",
        "  'oak_tree', 'orange', 'orchid', 'otter', 'palm_tree', 'pear', \r\n",
        "  'pickup_truck', 'pine_tree', 'plain', 'plate', 'poppy',\r\n",
        "  'porcupine', 'possum', 'rabbit', 'raccoon', 'ray', 'road',\r\n",
        "  'rocket', 'rose', 'sea', 'seal', 'shark', 'shrew', 'skunk',\r\n",
        "  'skyscraper', 'snail', 'snake', 'spider', 'squirrel',\r\n",
        "  'streetcar', 'sunflower', 'sweet_pepper', 'table', 'tank',\r\n",
        "  'telephone', 'television', 'tiger', 'tractor', 'train',\r\n",
        "  'trout', 'tulip', 'turtle', 'wardrobe', 'whale',\r\n",
        "  'willow_tree', 'wolf', 'woman', 'worm'\r\n",
        "]"
      ],
      "execution_count": 6,
      "outputs": []
    },
    {
      "cell_type": "markdown",
      "metadata": {
        "id": "_dOKztKFQbCl"
      },
      "source": [
        "Each class has a super class, let's define the super-classes:"
      ]
    },
    {
      "cell_type": "code",
      "metadata": {
        "id": "Pvu7u6FKR-B-"
      },
      "source": [
        "super_classes: List[str]= [\r\n",
        "  'fruit vegetables', 'fish', 'people', \r\n",
        "  'large carnivores', 'aquatic mammals', \r\n",
        "  'household furniture', 'insects', \r\n",
        "  'insects', 'vehicles 1', 'food containers', \r\n",
        "  'food containers', 'people', \r\n",
        "  'large man-made outdoor things',\r\n",
        "  'vehicles 1', 'insects', 'large omnivores herbivores',\r\n",
        "  'food containers', 'large man-made outdoor things',\r\n",
        "  'insects', 'large omnivores herbivores', \r\n",
        "  'household furniture', 'large omnivores herbivores',\r\n",
        "  'household electrical device', \r\n",
        "  'large natural outdoor scenes', 'insects', \r\n",
        "  'household furniture', 'non-insect invertebrates', \r\n",
        "  'reptiles', 'food containers', 'reptiles', \r\n",
        "  'aquatic mammals', 'large omnivores herbivores', 'fish', \r\n",
        "  'large natural outdoor scenes', 'medium-sized mammals', \r\n",
        "  'people', 'small mammals', \r\n",
        "  'large man-made outdoor things', \r\n",
        "  'large omnivores herbivores', \r\n",
        "  'household electrical device', \r\n",
        "  'household electrical device',\r\n",
        "  'vehicles 2', 'large carnivores', 'large carnivores',\r\n",
        "  'reptiles', 'non-insect invertebrates', 'people', \r\n",
        "  'trees', 'vehicles 1', 'large natural outdoor scenes', \r\n",
        "  'small mammals', 'fruit vegetables', 'trees', \r\n",
        "  'fruit vegetables', 'flowers', 'aquatic mammals', \r\n",
        "  'trees', 'fruit vegetables', 'vehicles 1', 'trees', \r\n",
        "  'large natural outdoor scenes', 'food containers', \r\n",
        "  'flowers', 'medium-sized mammals', \r\n",
        "  'medium-sized mammals','small mammals', \r\n",
        "  'medium-sized mammals', 'fish', \r\n",
        "  'large man-made outdoor things', 'vehicles 2', 'flowers',\r\n",
        "  'large natural outdoor scenes', 'aquatic mammals', \r\n",
        "  'fish', 'small mammals', 'medium-sized mammals', \r\n",
        "  'large man-made outdoor things', \r\n",
        "  'non-insect invertebrates', 'reptiles', \r\n",
        "  'non-insect invertebrates', 'small mammals',\r\n",
        "  'vehicles 2', 'flowers', 'fruit vegetables',\r\n",
        "  'household furniture', 'vehicles 2',\r\n",
        "  'household electrical device', \r\n",
        "  'household electrical device',\r\n",
        "  'large carnivores', 'vehicles 2', 'vehicles 1', 'fish', \r\n",
        "  'flowers', 'reptiles', 'household furniture', \r\n",
        "  'aquatic mammals', 'trees', 'large carnivores', \r\n",
        "  'people', 'non-insect invertebrates'\r\n",
        "]"
      ],
      "execution_count": 7,
      "outputs": []
    },
    {
      "cell_type": "markdown",
      "metadata": {
        "id": "xdcJWHDO78tg"
      },
      "source": [
        "Let's visualize some of our images:"
      ]
    },
    {
      "cell_type": "code",
      "metadata": {
        "colab": {
          "base_uri": "https://localhost:8080/",
          "height": 729
        },
        "id": "_3hNTy6VNwFu",
        "outputId": "7dc05e57-ccf1-44c8-bfd6-f7f562027d6e"
      },
      "source": [
        "fig, ax = plt.subplots(3, 2, figsize=(10, 10))\r\n",
        "\r\n",
        "title: str = \"Class - {0}\\nSuper Class - {1}\"\r\n",
        "ax[0, 0].imshow(x_train[0])\r\n",
        "ax[0, 0].set_title(title.format(classes[y_train[0][0]], \r\n",
        "                                super_classes[y_train[0][0]]))\r\n",
        "ax[0, 0].axis(\"off\")\r\n",
        "ax[0, 1].imshow(x_train[100])\r\n",
        "ax[0, 1].set_title(title.format(classes[y_train[100][0]], \r\n",
        "                                super_classes[y_train[100][0]]))\r\n",
        "ax[0, 1].axis(\"off\")\r\n",
        "ax[1, 0].imshow(x_train[200])\r\n",
        "ax[1, 0].set_title(title.format(classes[y_train[200][0]], \r\n",
        "                                super_classes[y_train[200][0]]))\r\n",
        "ax[1, 0].axis(\"off\")\r\n",
        "ax[1, 1].imshow(x_train[600])\r\n",
        "ax[1, 1].set_title(title.format(classes[y_train[600][0]], \r\n",
        "                                super_classes[y_train[600][0]]))\r\n",
        "ax[1, 1].axis(\"off\")\r\n",
        "ax[2, 0].imshow(x_train[34000])\r\n",
        "ax[2, 0].set_title(title.format(classes[y_train[34000][0]], \r\n",
        "                                super_classes[y_train[34000][0]]))\r\n",
        "ax[2, 0].axis(\"off\")\r\n",
        "ax[2, 1].imshow(x_train[42001])\r\n",
        "ax[2, 1].set_title(title.format(classes[y_train[42001][0]], \r\n",
        "                                super_classes[y_train[42001][0]]))\r\n",
        "ax[2, 1].axis(\"off\")\r\n",
        "fig.tight_layout()\r\n",
        "plt.show()"
      ],
      "execution_count": 8,
      "outputs": [
        {
          "output_type": "display_data",
          "data": {
            "image/png": "[encoded data removed]",
            "text/plain": [
              "<Figure size 720x720 with 6 Axes>"
            ]
          },
          "metadata": {
            "tags": [],
            "needs_background": "light"
          }
        }
      ]
    },
    {
      "cell_type": "markdown",
      "metadata": {
        "id": "Bxbrzy8APnox"
      },
      "source": [
        "Let's look at the class balance:"
      ]
    },
    {
      "cell_type": "code",
      "metadata": {
        "colab": {
          "base_uri": "https://localhost:8080/",
          "height": 592
        },
        "id": "kpVH5a0kPrfs",
        "outputId": "edb50864-d17e-42a0-e32f-4460a64b06b8"
      },
      "source": [
        "plt.figure(figsize=(10, 10))\r\n",
        "plt.hist([x[0] for x in y_train], bins=100, rwidth=0.2, range=(0,100))\r\n",
        "plt.hist([x[0] for x in y_test], bins=100, rwidth=0.2, range=(0,100))\r\n",
        "plt.show()"
      ],
      "execution_count": 9,
      "outputs": [
        {
          "output_type": "display_data",
          "data": {
            "image/png": "[encoded data removed]",
            "text/plain": [
              "<Figure size 720x720 with 1 Axes>"
            ]
          },
          "metadata": {
            "tags": [],
            "needs_background": "light"
          }
        }
      ]
    },
    {
      "cell_type": "markdown",
      "metadata": {
        "id": "zZ_Mh8iPRS3R"
      },
      "source": [
        "We can see the test and train data is perfectly balanced."
      ]
    },
    {
      "cell_type": "markdown",
      "metadata": {
        "id": "nf9ty4lWBztg"
      },
      "source": [
        "### ***Fast text vectors***\r\n",
        "Let's create a helper methods to transform string to vectors with our fast text vectors:"
      ]
    },
    {
      "cell_type": "code",
      "metadata": {
        "id": "tPGQzfgoCGQT"
      },
      "source": [
        "def text_to_avg_vector(sentence: str) -> np.ndarray:\r\n",
        "    \"\"\"\r\n",
        "    Transform a string to a vector\r\n",
        "    Parameters:\r\n",
        "        sentence (str): string to transform to vector\r\n",
        "        fast_text_vectors (Word2VecKeyedVectors): fast text vectors\r\n",
        "    Returns:\r\n",
        "        np.ndarray: vector representation of sentence\r\n",
        "    \"\"\"\r\n",
        "    # create empty array\r\n",
        "    vec: np.ndarray = np.array([0.0] * 300)\r\n",
        "    # create word list of sentence\r\n",
        "    word_list: List[str]  = text_to_word_sequence(sentence)\r\n",
        "\r\n",
        "    for word in word_list:\r\n",
        "        # add word vector to sentence vectors or zero if no word vector\r\n",
        "        try:\r\n",
        "          word_vec: np.ndarray = fast_text_vectors.word_vec(word)\r\n",
        "          vec += word_vec\r\n",
        "        except KeyError:\r\n",
        "          vec += np.zeros(300)\r\n",
        "\r\n",
        "    # return average vector (take sentence length into consideration)\r\n",
        "    return vec / len(word_list)"
      ],
      "execution_count": 10,
      "outputs": []
    },
    {
      "cell_type": "markdown",
      "metadata": {
        "id": "EFmf1GS9CJQn"
      },
      "source": [
        "Let's create a text vector for each of our classes and super classes:"
      ]
    },
    {
      "cell_type": "code",
      "metadata": {
        "colab": {
          "base_uri": "https://localhost:8080/"
        },
        "id": "p96StA7pAkGE",
        "outputId": "90e65ae0-5775-4c69-81f3-ae7b43ff8263"
      },
      "source": [
        "tv_classes: np.ndarray = np.asarray(list(map(text_to_avg_vector, \r\n",
        "                                             classes)))\r\n",
        "tv_super_classes: np.ndarray = np.asarray(list(map(text_to_avg_vector, \r\n",
        "                                                     super_classes)))\r\n",
        "print(f\"Classes vectors shape: {tv_classes.shape}\")\r\n",
        "print(f\"Super classes vectors shape: {tv_super_classes.shape}\")"
      ],
      "execution_count": 11,
      "outputs": [
        {
          "output_type": "stream",
          "text": [
            "Classes vectors shape: (100, 300)\n",
            "Super classes vectors shape: (100, 300)\n"
          ],
          "name": "stdout"
        }
      ]
    },
    {
      "cell_type": "markdown",
      "metadata": {
        "id": "hl6UycDsUSam"
      },
      "source": [
        "Let's create our new classes to predict. for each image instead of its class we want to predict its vectors making this a regression problem.\r\n",
        "we will try 3 options:\r\n",
        "1. vectors made only by class string.\r\n",
        "2. vectors made only by super class string.\r\n",
        "3. vectors made by combination of class and super class string."
      ]
    },
    {
      "cell_type": "code",
      "metadata": {
        "id": "q3XQSTE6nT3x",
        "colab": {
          "base_uri": "https://localhost:8080/"
        },
        "outputId": "8861717d-9a7a-4cf1-ee58-c13ac8f30a55"
      },
      "source": [
        "y_train_class_vectors: np.ndarray = np.asarray([tv_classes[label] for \r\n",
        "                                                label in y_train])\r\n",
        "y_train_class_vectors: np.ndarray = y_train_class_vectors.reshape((50000, \r\n",
        "                                                                   300))\r\n",
        "y_test_class_vectors: np.ndarray = np.asarray([tv_classes[label] for \r\n",
        "                                               label in y_test])\r\n",
        "y_test_class_vectors: np.ndarray = y_test_class_vectors.reshape((10000, \r\n",
        "                                                                 300))\r\n",
        "print(f\"Train class vectors shape: {y_train_class_vectors.shape}\")\r\n",
        "print(f\"Test class vectors shape: {y_test_class_vectors.shape}\")"
      ],
      "execution_count": 12,
      "outputs": [
        {
          "output_type": "stream",
          "text": [
            "Train class vectors shape: (50000, 300)\n",
            "Test class vectors shape: (10000, 300)\n"
          ],
          "name": "stdout"
        }
      ]
    },
    {
      "cell_type": "code",
      "metadata": {
        "colab": {
          "base_uri": "https://localhost:8080/"
        },
        "id": "VS2LyWvn0eTM",
        "outputId": "50b64694-c7fa-4a6e-ca32-a66b8e5703f8"
      },
      "source": [
        "y_train_super_class_vectors: np.ndarray = np.asarray(\r\n",
        "    [tv_super_classes[label] for label in y_train])\r\n",
        "y_train_super_class_vectors: np.ndarray =\\\r\n",
        " y_train_super_class_vectors.reshape((50000, 300))\r\n",
        "y_test_super_class_vectors: np.ndarray = np.asarray(\r\n",
        "    [tv_super_classes[label] for label in y_test])\r\n",
        "y_test_super_class_vectors: np.ndarray =\\\r\n",
        " y_test_super_class_vectors.reshape((10000, 300))\r\n",
        "print(f\"Train super class vectors shape: {y_train_super_class_vectors.shape}\")\r\n",
        "print(f\"Test super class vectors shape: {y_test_super_class_vectors.shape}\")"
      ],
      "execution_count": 13,
      "outputs": [
        {
          "output_type": "stream",
          "text": [
            "Train super class vectors shape: (50000, 300)\n",
            "Test super class vectors shape: (10000, 300)\n"
          ],
          "name": "stdout"
        }
      ]
    },
    {
      "cell_type": "code",
      "metadata": {
        "colab": {
          "base_uri": "https://localhost:8080/"
        },
        "id": "APBxDkUd0lUw",
        "outputId": "c9388ff4-0cf0-4acd-fbc3-6fe968c6d735"
      },
      "source": [
        "y_train_combined_vectors: np.ndarray = y_train_class_vectors * 0.75 \r\n",
        "y_train_combined_vectors += y_train_super_class_vectors * 0.25\r\n",
        "y_test_combined_vectors: np.ndarray = y_test_class_vectors * 0.75 \r\n",
        "y_test_combined_vectors += y_test_super_class_vectors * 0.25\r\n",
        "print(f\"Train combined class vectors shape: {y_train_combined_vectors.shape}\")\r\n",
        "print(f\"Test combined class vectors shape: {y_test_combined_vectors.shape}\")"
      ],
      "execution_count": 14,
      "outputs": [
        {
          "output_type": "stream",
          "text": [
            "Train combined class vectors shape: (50000, 300)\n",
            "Test combined class vectors shape: (10000, 300)\n"
          ],
          "name": "stdout"
        }
      ]
    },
    {
      "cell_type": "markdown",
      "metadata": {
        "id": "08nDkOM7CTa4"
      },
      "source": [
        "Let's check the similarity  between each vector of class. This can help us understand which classes can be predicted wrongly because of their similarity."
      ]
    },
    {
      "cell_type": "code",
      "metadata": {
        "colab": {
          "base_uri": "https://localhost:8080/"
        },
        "id": "OTKXTbEvB_t2",
        "outputId": "72ed1a1a-1f62-4185-b642-56c5b15999e4"
      },
      "source": [
        "# calculate cosine similarity between each two labels\r\n",
        "similarity_matrix: np.ndarray = cosine_similarity(tv_classes, tv_classes)\r\n",
        "\r\n",
        "# get only lower triangle \r\n",
        "similarity_matrix: np.ndarray = np.tril(similarity_matrix, -1)\r\n",
        "\r\n",
        "# get only pairs with cosine similarity bigger than 0.6\r\n",
        "indexes: np.ndarray = np.asarray(list(zip(*np.where(\r\n",
        "    similarity_matrix > 0.6))))\r\n",
        "\r\n",
        "# get the classes of each pairs\r\n",
        "indexes_classes: np.ndarray = np.asarray(\r\n",
        "    list(map(lambda x: (classes[x[0]], classes[x[1]]), indexes)))\r\n",
        "\r\n",
        "print(\"The pairs with high cosine similarity (the classes):\")\r\n",
        "for i in indexes_classes:\r\n",
        "  print(i)"
      ],
      "execution_count": 15,
      "outputs": [
        {
          "output_type": "stream",
          "text": [
            "The pairs with high cosine similarity (the classes):\n",
            "['boy' 'baby']\n",
            "['caterpillar' 'butterfly']\n",
            "['couch' 'bed']\n",
            "['dolphin' 'aquarium_fish']\n",
            "['girl' 'baby']\n",
            "['girl' 'boy']\n",
            "['house' 'castle']\n",
            "['lion' 'elephant']\n",
            "['lion' 'leopard']\n",
            "['lizard' 'dinosaur']\n",
            "['lobster' 'crab']\n",
            "['man' 'boy']\n",
            "['man' 'girl']\n",
            "['motorcycle' 'bicycle']\n",
            "['mouse' 'hamster']\n",
            "['mouse' 'computer_keyboard']\n",
            "['oak_tree' 'forest']\n",
            "['oak_tree' 'maple_tree']\n",
            "['otter' 'beaver']\n",
            "['palm_tree' 'maple_tree']\n",
            "['palm_tree' 'oak_tree']\n",
            "['pear' 'apple']\n",
            "['pine_tree' 'forest']\n",
            "['pine_tree' 'maple_tree']\n",
            "['pine_tree' 'oak_tree']\n",
            "['pine_tree' 'palm_tree']\n",
            "['rabbit' 'fox']\n",
            "['raccoon' 'beaver']\n",
            "['shark' 'aquarium_fish']\n",
            "['shark' 'crocodile']\n",
            "['shark' 'dolphin']\n",
            "['snake' 'crocodile']\n",
            "['snake' 'lizard']\n",
            "['spider' 'snake']\n",
            "['squirrel' 'raccoon']\n",
            "['tiger' 'crocodile']\n",
            "['tiger' 'elephant']\n",
            "['tiger' 'leopard']\n",
            "['tiger' 'lion']\n",
            "['tractor' 'lawn_mower']\n",
            "['tractor' 'pickup_truck']\n",
            "['turtle' 'dolphin']\n",
            "['turtle' 'snake']\n",
            "['whale' 'dolphin']\n",
            "['whale' 'shark']\n",
            "['willow_tree' 'maple_tree']\n",
            "['willow_tree' 'oak_tree']\n",
            "['willow_tree' 'palm_tree']\n",
            "['willow_tree' 'pine_tree']\n",
            "['wolf' 'fox']\n",
            "['woman' 'boy']\n",
            "['woman' 'girl']\n",
            "['woman' 'man']\n"
          ],
          "name": "stdout"
        }
      ]
    },
    {
      "cell_type": "markdown",
      "metadata": {
        "id": "AOje9lRjIuiS"
      },
      "source": [
        "It looks like we have a lot of classes that can be predicted wrongly, let's take a look at their super class"
      ]
    },
    {
      "cell_type": "code",
      "metadata": {
        "colab": {
          "base_uri": "https://localhost:8080/"
        },
        "id": "n_uutvMzIul5",
        "outputId": "056eaae8-b8ac-455f-afab-bdc1087ac209"
      },
      "source": [
        "# get the super classes of each pairs\r\n",
        "indexes_super_classes: np.ndarray = np.asarray(\r\n",
        "    list(map(lambda x: (super_classes[x[0]], super_classes[x[1]]), \r\n",
        "             indexes)))\r\n",
        "print(\"The pairs with high cosine similarity (the super classes):\")\r\n",
        "for i in indexes_classes:\r\n",
        "  print(i)"
      ],
      "execution_count": 16,
      "outputs": [
        {
          "output_type": "stream",
          "text": [
            "The pairs with high cosine similarity (the super classes):\n",
            "['boy' 'baby']\n",
            "['caterpillar' 'butterfly']\n",
            "['couch' 'bed']\n",
            "['dolphin' 'aquarium_fish']\n",
            "['girl' 'baby']\n",
            "['girl' 'boy']\n",
            "['house' 'castle']\n",
            "['lion' 'elephant']\n",
            "['lion' 'leopard']\n",
            "['lizard' 'dinosaur']\n",
            "['lobster' 'crab']\n",
            "['man' 'boy']\n",
            "['man' 'girl']\n",
            "['motorcycle' 'bicycle']\n",
            "['mouse' 'hamster']\n",
            "['mouse' 'computer_keyboard']\n",
            "['oak_tree' 'forest']\n",
            "['oak_tree' 'maple_tree']\n",
            "['otter' 'beaver']\n",
            "['palm_tree' 'maple_tree']\n",
            "['palm_tree' 'oak_tree']\n",
            "['pear' 'apple']\n",
            "['pine_tree' 'forest']\n",
            "['pine_tree' 'maple_tree']\n",
            "['pine_tree' 'oak_tree']\n",
            "['pine_tree' 'palm_tree']\n",
            "['rabbit' 'fox']\n",
            "['raccoon' 'beaver']\n",
            "['shark' 'aquarium_fish']\n",
            "['shark' 'crocodile']\n",
            "['shark' 'dolphin']\n",
            "['snake' 'crocodile']\n",
            "['snake' 'lizard']\n",
            "['spider' 'snake']\n",
            "['squirrel' 'raccoon']\n",
            "['tiger' 'crocodile']\n",
            "['tiger' 'elephant']\n",
            "['tiger' 'leopard']\n",
            "['tiger' 'lion']\n",
            "['tractor' 'lawn_mower']\n",
            "['tractor' 'pickup_truck']\n",
            "['turtle' 'dolphin']\n",
            "['turtle' 'snake']\n",
            "['whale' 'dolphin']\n",
            "['whale' 'shark']\n",
            "['willow_tree' 'maple_tree']\n",
            "['willow_tree' 'oak_tree']\n",
            "['willow_tree' 'palm_tree']\n",
            "['willow_tree' 'pine_tree']\n",
            "['wolf' 'fox']\n",
            "['woman' 'boy']\n",
            "['woman' 'girl']\n",
            "['woman' 'man']\n"
          ],
          "name": "stdout"
        }
      ]
    },
    {
      "cell_type": "markdown",
      "metadata": {
        "id": "GR-Rfg7VJg08"
      },
      "source": [
        "We can see a lot of the pairs have the same super class so it's not a surprise if their similarity is high, let's look at only the pairs with different super classes:"
      ]
    },
    {
      "cell_type": "code",
      "metadata": {
        "colab": {
          "base_uri": "https://localhost:8080/"
        },
        "id": "ZqXVzbvDJgO9",
        "outputId": "2d590371-460f-4f6f-f0c1-87693ca368d9"
      },
      "source": [
        "# get the super classes of each pairs\r\n",
        "filter_indexes: np.ndarray = np.asarray(\r\n",
        "    list(filter(lambda x: super_classes[x[0]] != super_classes[x[1]], \r\n",
        "                indexes)))\r\n",
        "\r\n",
        "indexes_classes: np.ndarray = np.asarray(\r\n",
        "    list(map(lambda x: (classes[x[0]], classes[x[1]]), \r\n",
        "             filter_indexes)))\r\n",
        "\r\n",
        "print(\"The pairs with high cosine similarity (the super classes):\")\r\n",
        "for i in indexes_classes:\r\n",
        "  print(i)"
      ],
      "execution_count": 17,
      "outputs": [
        {
          "output_type": "stream",
          "text": [
            "The pairs with high cosine similarity (the super classes):\n",
            "['dolphin' 'aquarium_fish']\n",
            "['lion' 'elephant']\n",
            "['mouse' 'computer_keyboard']\n",
            "['oak_tree' 'forest']\n",
            "['pine_tree' 'forest']\n",
            "['rabbit' 'fox']\n",
            "['raccoon' 'beaver']\n",
            "['shark' 'crocodile']\n",
            "['shark' 'dolphin']\n",
            "['spider' 'snake']\n",
            "['squirrel' 'raccoon']\n",
            "['tiger' 'crocodile']\n",
            "['tiger' 'elephant']\n",
            "['tractor' 'pickup_truck']\n",
            "['turtle' 'dolphin']\n",
            "['whale' 'shark']\n",
            "['wolf' 'fox']\n"
          ],
          "name": "stdout"
        }
      ]
    },
    {
      "cell_type": "markdown",
      "metadata": {
        "id": "imCkWD25SrGf"
      },
      "source": [
        "These pairs have a high chance of being predicted wrongly."
      ]
    },
    {
      "cell_type": "markdown",
      "metadata": {
        "id": "Xedv8_67NHaY"
      },
      "source": [
        "## ***Model Training and Evaluation***"
      ]
    },
    {
      "cell_type": "markdown",
      "metadata": {
        "id": "2FqBZ3BS1qIP"
      },
      "source": [
        "### ***Try One***\r\n",
        "\r\n",
        "First we will try with prediction vectors made from class strings only."
      ]
    },
    {
      "cell_type": "markdown",
      "metadata": {
        "id": "T9djRRQUS-j5"
      },
      "source": [
        "#### ***Pre Process images***"
      ]
    },
    {
      "cell_type": "code",
      "metadata": {
        "id": "Q0gh0PEkCNYo"
      },
      "source": [
        "x_train_preprocessed: np.ndarray = x_train.astype('float32')\r\n",
        "x_test_preprocessed: np.ndarray = x_test.astype('float32')\r\n",
        "x_train_preprocessed /= 255.0\r\n",
        "x_test_preprocessed /= 255.0"
      ],
      "execution_count": 18,
      "outputs": []
    },
    {
      "cell_type": "markdown",
      "metadata": {
        "id": "aTQcy99xceN-"
      },
      "source": [
        "#### ***Train Model***\r\n",
        "Let's build a simple CNN model to predict our image vectors:"
      ]
    },
    {
      "cell_type": "code",
      "metadata": {
        "id": "4J1LJFFwnbJP",
        "colab": {
          "base_uri": "https://localhost:8080/"
        },
        "outputId": "e1cf20c9-2550-4428-b34e-9de26b8c9acc"
      },
      "source": [
        "# Params for model\r\n",
        "input_shape: Tuple = (32, 32, 3)\r\n",
        "chan_dim: int = -1\r\n",
        "\r\n",
        "#Create model\r\n",
        "model = Sequential()\r\n",
        "\r\n",
        "# Add CNN layers\r\n",
        "#  Stack 1:\r\n",
        "model.add(Conv2D(32, (3, 3), padding='same', input_shape=input_shape))\r\n",
        "model.add(Activation('relu'))\r\n",
        "model.add(BatchNormalization(axis=chan_dim))\r\n",
        "model.add(MaxPooling2D(pool_size=(2, 2)))\r\n",
        "model.add(Dropout(0.25))\r\n",
        "\r\n",
        "# Stack 2:\r\n",
        "model.add(Conv2D(64, (3, 3), padding='same'))\r\n",
        "model.add(Activation('relu'))\r\n",
        "model.add(BatchNormalization(axis=chan_dim))\r\n",
        "model.add(MaxPooling2D(pool_size=(2, 2)))\r\n",
        "model.add(Dropout(0.25))\r\n",
        "\r\n",
        "# Stack 3:\r\n",
        "model.add(Conv2D(64, (3, 3), padding='same'))\r\n",
        "model.add(Activation('relu'))\r\n",
        "model.add(BatchNormalization(axis=chan_dim))\r\n",
        "model.add(MaxPooling2D(pool_size=(2, 2)))\r\n",
        "model.add(Dropout(0.25))\r\n",
        "\r\n",
        "# Stack 4:\r\n",
        "model.add(Flatten())\r\n",
        "model.add(Dense(300))\r\n",
        "model.add(Activation('relu'))\r\n",
        "model.add(BatchNormalization())\r\n",
        "model.add(Dropout(0.5))\r\n",
        "\r\n",
        "# output layer:\r\n",
        "model.add(Dense(300))\r\n",
        "\r\n",
        "# print model structure\r\n",
        "model.summary()"
      ],
      "execution_count": 19,
      "outputs": [
        {
          "output_type": "stream",
          "text": [
            "Model: \"sequential\"\n",
            "_________________________________________________________________\n",
            "Layer (type)                 Output Shape              Param #   \n",
            "=================================================================\n",
            "conv2d (Conv2D)              (None, 32, 32, 32)        896       \n",
            "_________________________________________________________________\n",
            "activation (Activation)      (None, 32, 32, 32)        0         \n",
            "_________________________________________________________________\n",
            "batch_normalization (BatchNo (None, 32, 32, 32)        128       \n",
            "_________________________________________________________________\n",
            "max_pooling2d (MaxPooling2D) (None, 16, 16, 32)        0         \n",
            "_________________________________________________________________\n",
            "dropout (Dropout)            (None, 16, 16, 32)        0         \n",
            "_________________________________________________________________\n",
            "conv2d_1 (Conv2D)            (None, 16, 16, 64)        18496     \n",
            "_________________________________________________________________\n",
            "activation_1 (Activation)    (None, 16, 16, 64)        0         \n",
            "_________________________________________________________________\n",
            "batch_normalization_1 (Batch (None, 16, 16, 64)        256       \n",
            "_________________________________________________________________\n",
            "max_pooling2d_1 (MaxPooling2 (None, 8, 8, 64)          0         \n",
            "_________________________________________________________________\n",
            "dropout_1 (Dropout)          (None, 8, 8, 64)          0         \n",
            "_________________________________________________________________\n",
            "conv2d_2 (Conv2D)            (None, 8, 8, 64)          36928     \n",
            "_________________________________________________________________\n",
            "activation_2 (Activation)    (None, 8, 8, 64)          0         \n",
            "_________________________________________________________________\n",
            "batch_normalization_2 (Batch (None, 8, 8, 64)          256       \n",
            "_________________________________________________________________\n",
            "max_pooling2d_2 (MaxPooling2 (None, 4, 4, 64)          0         \n",
            "_________________________________________________________________\n",
            "dropout_2 (Dropout)          (None, 4, 4, 64)          0         \n",
            "_________________________________________________________________\n",
            "flatten (Flatten)            (None, 1024)              0         \n",
            "_________________________________________________________________\n",
            "dense (Dense)                (None, 300)               307500    \n",
            "_________________________________________________________________\n",
            "activation_3 (Activation)    (None, 300)               0         \n",
            "_________________________________________________________________\n",
            "batch_normalization_3 (Batch (None, 300)               1200      \n",
            "_________________________________________________________________\n",
            "dropout_3 (Dropout)          (None, 300)               0         \n",
            "_________________________________________________________________\n",
            "dense_1 (Dense)              (None, 300)               90300     \n",
            "=================================================================\n",
            "Total params: 455,960\n",
            "Trainable params: 455,040\n",
            "Non-trainable params: 920\n",
            "_________________________________________________________________\n"
          ],
          "name": "stdout"
        }
      ]
    },
    {
      "cell_type": "markdown",
      "metadata": {
        "id": "SDVAz2-sWtiZ"
      },
      "source": [
        "Next let's compile the model using MSE as our loss metric:"
      ]
    },
    {
      "cell_type": "code",
      "metadata": {
        "id": "Ai1XJryfWIGa"
      },
      "source": [
        "model.compile(optimizer=Adam(learning_rate=0.001), loss='mean_squared_error')"
      ],
      "execution_count": 20,
      "outputs": []
    },
    {
      "cell_type": "markdown",
      "metadata": {
        "id": "jw66tnXVW1Zc"
      },
      "source": [
        "Now let's train the model:"
      ]
    },
    {
      "cell_type": "code",
      "metadata": {
        "colab": {
          "base_uri": "https://localhost:8080/"
        },
        "id": "cDDDt_uKWI0U",
        "outputId": "249a1d38-dd6a-48af-cac5-7ac1fe651f00"
      },
      "source": [
        "history = model.fit(x_train, y_train_class_vectors, epochs=10, \r\n",
        "                    shuffle=True, batch_size=32)"
      ],
      "execution_count": 21,
      "outputs": [
        {
          "output_type": "stream",
          "text": [
            "Epoch 1/10\n",
            "1563/1563 [==============================] - 13s 4ms/step - loss: 0.3696\n",
            "Epoch 2/10\n",
            "1563/1563 [==============================] - 6s 4ms/step - loss: 0.0125\n",
            "Epoch 3/10\n",
            "1563/1563 [==============================] - 6s 4ms/step - loss: 0.0133\n",
            "Epoch 4/10\n",
            "1563/1563 [==============================] - 6s 4ms/step - loss: 0.0131\n",
            "Epoch 5/10\n",
            "1563/1563 [==============================] - 6s 4ms/step - loss: 0.0123\n",
            "Epoch 6/10\n",
            "1563/1563 [==============================] - 6s 4ms/step - loss: 0.0115\n",
            "Epoch 7/10\n",
            "1563/1563 [==============================] - 6s 4ms/step - loss: 0.0111\n",
            "Epoch 8/10\n",
            "1563/1563 [==============================] - 6s 4ms/step - loss: 0.0111\n",
            "Epoch 9/10\n",
            "1563/1563 [==============================] - 6s 4ms/step - loss: 0.0109\n",
            "Epoch 10/10\n",
            "1563/1563 [==============================] - 6s 4ms/step - loss: 0.0110\n"
          ],
          "name": "stdout"
        }
      ]
    },
    {
      "cell_type": "markdown",
      "metadata": {
        "id": "KM3PeDB-XISe"
      },
      "source": [
        "Lets see our model performance:"
      ]
    },
    {
      "cell_type": "code",
      "metadata": {
        "colab": {
          "base_uri": "https://localhost:8080/",
          "height": 295
        },
        "id": "2L8Psl5QXKOj",
        "outputId": "a4e7d122-c825-4757-9e83-9f35a1765153"
      },
      "source": [
        "plt.plot(history.history['loss'])\r\n",
        "plt.title('model loss')\r\n",
        "plt.ylabel('loss')\r\n",
        "plt.xlabel('epoch')\r\n",
        "plt.legend(['train'], loc='upper left')\r\n",
        "plt.show()"
      ],
      "execution_count": 22,
      "outputs": [
        {
          "output_type": "display_data",
          "data": {
            "image/png": "[encoded data removed]",
            "text/plain": [
              "<Figure size 432x288 with 1 Axes>"
            ]
          },
          "metadata": {
            "tags": [],
            "needs_background": "light"
          }
        }
      ]
    },
    {
      "cell_type": "markdown",
      "metadata": {
        "id": "bmZQIsaRcqsn"
      },
      "source": [
        "#### ***Test Model***\r\n",
        "\r\n",
        "Let's evaluate our model on the test-set:"
      ]
    },
    {
      "cell_type": "code",
      "metadata": {
        "id": "qUFkPVGyXW8h",
        "colab": {
          "base_uri": "https://localhost:8080/"
        },
        "outputId": "5f83844b-c8b8-4d83-9b43-455b0b43f671"
      },
      "source": [
        "model_eval = model.evaluate(x_test, y_test_class_vectors) \r\n",
        "print(f\"Model loss {model_eval}\")"
      ],
      "execution_count": 23,
      "outputs": [
        {
          "output_type": "stream",
          "text": [
            "313/313 [==============================] - 1s 2ms/step - loss: 0.0110\n",
            "Model loss 0.011022607795894146\n"
          ],
          "name": "stdout"
        }
      ]
    },
    {
      "cell_type": "markdown",
      "metadata": {
        "id": "y4SdTo_gct6F"
      },
      "source": [
        "####  ***Predict Using Model***\r\n",
        "\r\n",
        "Let's make some predictions using our model."
      ]
    },
    {
      "cell_type": "markdown",
      "metadata": {
        "id": "qJzI9dsOdhVo"
      },
      "source": [
        "First let's create a method to predict the label:"
      ]
    },
    {
      "cell_type": "code",
      "metadata": {
        "id": "RDzsd6S9dhlV"
      },
      "source": [
        "def predict_label(img: np.ndarray) -> str:\r\n",
        "  # predict query\r\n",
        "  prediction: np.ndarray = model.predict([img])\r\n",
        "  # get top-n by cosine similarity\r\n",
        "  most_similar: List[str] = fast_text_vectors.similar_by_vector(prediction[0], topn=5)\r\n",
        "  return \", \".join([x[0] for x in most_similar])"
      ],
      "execution_count": 24,
      "outputs": []
    },
    {
      "cell_type": "code",
      "metadata": {
        "colab": {
          "base_uri": "https://localhost:8080/",
          "height": 193
        },
        "id": "OiD2mAZZc_QJ",
        "outputId": "d4a9bd84-b9f6-4fb6-c5d1-654b0ae1baf8"
      },
      "source": [
        "# display image\r\n",
        "img: np.ndarray = x_train[0].copy()\r\n",
        "plt.figure(figsize=(2,2))\r\n",
        "plt.imshow(img)\r\n",
        "plt.show()\r\n",
        "\r\n",
        "# display prediction\r\n",
        "prediction:str = predict_label(np.expand_dims(x_train[0], axis=0))\r\n",
        "print(f\"Actual class of image: {classes[y_train[0][0]]}\")\r\n",
        "print(f\"Prediction for image: {prediction}\")"
      ],
      "execution_count": 25,
      "outputs": [
        {
          "output_type": "display_data",
          "data": {
            "image/png": "[encoded data removed]",
            "text/plain": [
              "<Figure size 144x144 with 1 Axes>"
            ]
          },
          "metadata": {
            "tags": [],
            "needs_background": "light"
          }
        },
        {
          "output_type": "stream",
          "text": [
            "Actual class of image: cattle\n",
            "Prediction for image: tiger, spider, snake, animal, rabbit\n"
          ],
          "name": "stdout"
        }
      ]
    },
    {
      "cell_type": "code",
      "metadata": {
        "colab": {
          "base_uri": "https://localhost:8080/",
          "height": 193
        },
        "id": "jrjIyvcyjlWl",
        "outputId": "8e539e73-1f01-4e18-cf8b-e1197d1cba5a"
      },
      "source": [
        "# display image\r\n",
        "img: np.ndarray = x_train[3000].copy()\r\n",
        "plt.figure(figsize=(2,2))\r\n",
        "plt.imshow(img)\r\n",
        "plt.show()\r\n",
        "\r\n",
        "# display prediction\r\n",
        "prediction:str = predict_label(np.expand_dims(x_train[3000], axis=0))\r\n",
        "print(f\"Actual class of image: {classes[y_train[3000][0]]}\")\r\n",
        "print(f\"Prediction for image: {prediction}\")"
      ],
      "execution_count": 26,
      "outputs": [
        {
          "output_type": "display_data",
          "data": {
            "image/png": "[encoded data removed]",
            "text/plain": [
              "<Figure size 144x144 with 1 Axes>"
            ]
          },
          "metadata": {
            "tags": [],
            "needs_background": "light"
          }
        },
        {
          "output_type": "stream",
          "text": [
            "Actual class of image: shark\n",
            "Prediction for image: monkey, mammal, raccoon, tiger, animal\n"
          ],
          "name": "stdout"
        }
      ]
    },
    {
      "cell_type": "code",
      "metadata": {
        "colab": {
          "base_uri": "https://localhost:8080/",
          "height": 193
        },
        "id": "m5rE0ircciUL",
        "outputId": "5cae276b-ba7c-426b-b760-3e8bfe733fb4"
      },
      "source": [
        "# display image\r\n",
        "img: np.ndarray = x_train[4000].copy()\r\n",
        "plt.figure(figsize=(2,2))\r\n",
        "plt.imshow(img)\r\n",
        "plt.show()\r\n",
        "\r\n",
        "# display prediction\r\n",
        "prediction:str = predict_label(np.expand_dims(x_train[4000], axis=0))\r\n",
        "print(f\"Actual class of image: {classes[y_train[4000][0]]}\")\r\n",
        "print(f\"Prediction for image: {prediction}\")"
      ],
      "execution_count": 27,
      "outputs": [
        {
          "output_type": "display_data",
          "data": {
            "image/png": "[encoded data removed]",
            "text/plain": [
              "<Figure size 144x144 with 1 Axes>"
            ]
          },
          "metadata": {
            "tags": [],
            "needs_background": "light"
          }
        },
        {
          "output_type": "stream",
          "text": [
            "Actual class of image: beetle\n",
            "Prediction for image: beetle, insect, turtle, spider, snake\n"
          ],
          "name": "stdout"
        }
      ]
    },
    {
      "cell_type": "code",
      "metadata": {
        "colab": {
          "base_uri": "https://localhost:8080/",
          "height": 193
        },
        "id": "AgrrPcjecrbT",
        "outputId": "d6ff9583-99de-4fe9-a2a9-88c439ca7bbd"
      },
      "source": [
        "# display image\r\n",
        "img: np.ndarray = x_train[2000].copy()\r\n",
        "plt.figure(figsize=(2,2))\r\n",
        "plt.imshow(img)\r\n",
        "plt.show()\r\n",
        "\r\n",
        "# display prediction\r\n",
        "prediction:str = predict_label(np.expand_dims(x_train[2000], axis=0))\r\n",
        "print(f\"Actual class of image: {classes[y_train[2000][0]]}\")\r\n",
        "print(f\"Prediction for image: {prediction}\")"
      ],
      "execution_count": 28,
      "outputs": [
        {
          "output_type": "display_data",
          "data": {
            "image/png": "[encoded data removed]",
            "text/plain": [
              "<Figure size 144x144 with 1 Axes>"
            ]
          },
          "metadata": {
            "tags": [],
            "needs_background": "light"
          }
        },
        {
          "output_type": "stream",
          "text": [
            "Actual class of image: pine_tree\n",
            "Prediction for image: tree, trees, pine, oak, forest\n"
          ],
          "name": "stdout"
        }
      ]
    },
    {
      "cell_type": "code",
      "metadata": {
        "colab": {
          "base_uri": "https://localhost:8080/",
          "height": 193
        },
        "id": "45Df6MTxdyV8",
        "outputId": "6e70e7a9-04f6-40d6-9be2-91e7d9e362f8"
      },
      "source": [
        "# display image\r\n",
        "img: np.ndarray = x_train[1200].copy()\r\n",
        "plt.figure(figsize=(2,2))\r\n",
        "plt.imshow(img)\r\n",
        "plt.show()\r\n",
        "\r\n",
        "# display prediction\r\n",
        "prediction:str = predict_label(np.expand_dims(x_train[1200], axis=0))\r\n",
        "print(f\"Actual class of image: {classes[y_train[1200][0]]}\")\r\n",
        "print(f\"Prediction for image: {prediction}\")"
      ],
      "execution_count": 29,
      "outputs": [
        {
          "output_type": "display_data",
          "data": {
            "image/png": "[encoded data removed]",
            "text/plain": [
              "<Figure size 144x144 with 1 Axes>"
            ]
          },
          "metadata": {
            "tags": [],
            "needs_background": "light"
          }
        },
        {
          "output_type": "stream",
          "text": [
            "Actual class of image: television\n",
            "Prediction for image: fish, tray, lady, lamp, girl\n"
          ],
          "name": "stdout"
        }
      ]
    },
    {
      "cell_type": "markdown",
      "metadata": {
        "id": "Oe7QkvS2R4Bq"
      },
      "source": [
        "### ***Try Two***\r\n",
        "\r\n",
        "First we will try with prediction vectors made from super class string only."
      ]
    },
    {
      "cell_type": "markdown",
      "metadata": {
        "id": "XIDSy0AqR4By"
      },
      "source": [
        "#### ***Pre Process images***"
      ]
    },
    {
      "cell_type": "code",
      "metadata": {
        "id": "LMbPeqMLR4By"
      },
      "source": [
        "x_train_preprocessed: np.ndarray = x_train.astype('float32')\r\n",
        "x_test_preprocessed: np.ndarray = x_test.astype('float32')\r\n",
        "x_train_preprocessed /= 255.0\r\n",
        "x_test_preprocessed /= 255.0"
      ],
      "execution_count": 30,
      "outputs": []
    },
    {
      "cell_type": "markdown",
      "metadata": {
        "id": "4lDrUcWpR4Bz"
      },
      "source": [
        "#### ***Train Model***\r\n",
        "Let's build a simple CNN model to predict our image vectors:"
      ]
    },
    {
      "cell_type": "code",
      "metadata": {
        "colab": {
          "base_uri": "https://localhost:8080/"
        },
        "id": "tdVm2Jg7R4Bz",
        "outputId": "4d7abbe7-7ab6-4505-d10f-49382656c784"
      },
      "source": [
        "# Params for model\r\n",
        "input_shape: Tuple = (32, 32, 3)\r\n",
        "chan_dim: int = -1\r\n",
        "\r\n",
        "#Create model\r\n",
        "model = Sequential()\r\n",
        "\r\n",
        "# Add CNN layers\r\n",
        "#  Stack 1:\r\n",
        "model.add(Conv2D(32, (3, 3), padding='same', input_shape=input_shape))\r\n",
        "model.add(Activation('relu'))\r\n",
        "model.add(BatchNormalization(axis=chan_dim))\r\n",
        "model.add(MaxPooling2D(pool_size=(2, 2)))\r\n",
        "model.add(Dropout(0.25))\r\n",
        "\r\n",
        "# Stack 2:\r\n",
        "model.add(Conv2D(64, (3, 3), padding='same'))\r\n",
        "model.add(Activation('relu'))\r\n",
        "model.add(BatchNormalization(axis=chan_dim))\r\n",
        "model.add(MaxPooling2D(pool_size=(2, 2)))\r\n",
        "model.add(Dropout(0.25))\r\n",
        "\r\n",
        "# Stack 3:\r\n",
        "model.add(Conv2D(64, (3, 3), padding='same'))\r\n",
        "model.add(Activation('relu'))\r\n",
        "model.add(BatchNormalization(axis=chan_dim))\r\n",
        "model.add(MaxPooling2D(pool_size=(2, 2)))\r\n",
        "model.add(Dropout(0.25))\r\n",
        "\r\n",
        "# Stack 4:\r\n",
        "model.add(Flatten())\r\n",
        "model.add(Dense(300))\r\n",
        "model.add(Activation('relu'))\r\n",
        "model.add(BatchNormalization())\r\n",
        "model.add(Dropout(0.5))\r\n",
        "\r\n",
        "# output layer:\r\n",
        "model.add(Dense(300))\r\n",
        "\r\n",
        "# print model structure\r\n",
        "model.summary()"
      ],
      "execution_count": 31,
      "outputs": [
        {
          "output_type": "stream",
          "text": [
            "Model: \"sequential_1\"\n",
            "_________________________________________________________________\n",
            "Layer (type)                 Output Shape              Param #   \n",
            "=================================================================\n",
            "conv2d_3 (Conv2D)            (None, 32, 32, 32)        896       \n",
            "_________________________________________________________________\n",
            "activation_4 (Activation)    (None, 32, 32, 32)        0         \n",
            "_________________________________________________________________\n",
            "batch_normalization_4 (Batch (None, 32, 32, 32)        128       \n",
            "_________________________________________________________________\n",
            "max_pooling2d_3 (MaxPooling2 (None, 16, 16, 32)        0         \n",
            "_________________________________________________________________\n",
            "dropout_4 (Dropout)          (None, 16, 16, 32)        0         \n",
            "_________________________________________________________________\n",
            "conv2d_4 (Conv2D)            (None, 16, 16, 64)        18496     \n",
            "_________________________________________________________________\n",
            "activation_5 (Activation)    (None, 16, 16, 64)        0         \n",
            "_________________________________________________________________\n",
            "batch_normalization_5 (Batch (None, 16, 16, 64)        256       \n",
            "_________________________________________________________________\n",
            "max_pooling2d_4 (MaxPooling2 (None, 8, 8, 64)          0         \n",
            "_________________________________________________________________\n",
            "dropout_5 (Dropout)          (None, 8, 8, 64)          0         \n",
            "_________________________________________________________________\n",
            "conv2d_5 (Conv2D)            (None, 8, 8, 64)          36928     \n",
            "_________________________________________________________________\n",
            "activation_6 (Activation)    (None, 8, 8, 64)          0         \n",
            "_________________________________________________________________\n",
            "batch_normalization_6 (Batch (None, 8, 8, 64)          256       \n",
            "_________________________________________________________________\n",
            "max_pooling2d_5 (MaxPooling2 (None, 4, 4, 64)          0         \n",
            "_________________________________________________________________\n",
            "dropout_6 (Dropout)          (None, 4, 4, 64)          0         \n",
            "_________________________________________________________________\n",
            "flatten_1 (Flatten)          (None, 1024)              0         \n",
            "_________________________________________________________________\n",
            "dense_2 (Dense)              (None, 300)               307500    \n",
            "_________________________________________________________________\n",
            "activation_7 (Activation)    (None, 300)               0         \n",
            "_________________________________________________________________\n",
            "batch_normalization_7 (Batch (None, 300)               1200      \n",
            "_________________________________________________________________\n",
            "dropout_7 (Dropout)          (None, 300)               0         \n",
            "_________________________________________________________________\n",
            "dense_3 (Dense)              (None, 300)               90300     \n",
            "=================================================================\n",
            "Total params: 455,960\n",
            "Trainable params: 455,040\n",
            "Non-trainable params: 920\n",
            "_________________________________________________________________\n"
          ],
          "name": "stdout"
        }
      ]
    },
    {
      "cell_type": "markdown",
      "metadata": {
        "id": "H-xo0EHYR4B0"
      },
      "source": [
        "Next let's compile the model using MSE as our loss metric:"
      ]
    },
    {
      "cell_type": "code",
      "metadata": {
        "id": "_MzolRKLR4B0"
      },
      "source": [
        "model.compile(optimizer=Adam(learning_rate=0.001), loss='mean_squared_error')"
      ],
      "execution_count": 32,
      "outputs": []
    },
    {
      "cell_type": "markdown",
      "metadata": {
        "id": "hGTjcfVkR4B0"
      },
      "source": [
        "Now let's train the model:"
      ]
    },
    {
      "cell_type": "code",
      "metadata": {
        "colab": {
          "base_uri": "https://localhost:8080/"
        },
        "id": "vghFhQC-R4B0",
        "outputId": "6b36517d-ce28-48db-b69e-2b58404ddc06"
      },
      "source": [
        "history = model.fit(x_train, y_train_super_class_vectors, epochs=10, \r\n",
        "                    shuffle=True, batch_size=32)"
      ],
      "execution_count": 33,
      "outputs": [
        {
          "output_type": "stream",
          "text": [
            "Epoch 1/10\n",
            "1563/1563 [==============================] - 7s 4ms/step - loss: 0.3171\n",
            "Epoch 2/10\n",
            "1563/1563 [==============================] - 6s 4ms/step - loss: 0.0059\n",
            "Epoch 3/10\n",
            "1563/1563 [==============================] - 6s 4ms/step - loss: 0.0064\n",
            "Epoch 4/10\n",
            "1563/1563 [==============================] - 6s 4ms/step - loss: 0.0064\n",
            "Epoch 5/10\n",
            "1563/1563 [==============================] - 6s 4ms/step - loss: 0.0059\n",
            "Epoch 6/10\n",
            "1563/1563 [==============================] - 6s 4ms/step - loss: 0.0053\n",
            "Epoch 7/10\n",
            "1563/1563 [==============================] - 6s 4ms/step - loss: 0.0048\n",
            "Epoch 8/10\n",
            "1563/1563 [==============================] - 6s 4ms/step - loss: 0.0047\n",
            "Epoch 9/10\n",
            "1563/1563 [==============================] - 6s 4ms/step - loss: 0.0046\n",
            "Epoch 10/10\n",
            "1563/1563 [==============================] - 6s 4ms/step - loss: 0.0044\n"
          ],
          "name": "stdout"
        }
      ]
    },
    {
      "cell_type": "markdown",
      "metadata": {
        "id": "CDq1rKYaR4B1"
      },
      "source": [
        "Lets see our model performance:"
      ]
    },
    {
      "cell_type": "code",
      "metadata": {
        "colab": {
          "base_uri": "https://localhost:8080/",
          "height": 295
        },
        "id": "KOuTZpV_R4B1",
        "outputId": "0b0872e4-a271-41a4-d082-99513f25faa0"
      },
      "source": [
        "plt.plot(history.history['loss'])\r\n",
        "plt.title('model loss')\r\n",
        "plt.ylabel('loss')\r\n",
        "plt.xlabel('epoch')\r\n",
        "plt.legend(['train'], loc='upper left')\r\n",
        "plt.show()"
      ],
      "execution_count": 34,
      "outputs": [
        {
          "output_type": "display_data",
          "data": {
            "image/png": "[encoded data removed]",
            "text/plain": [
              "<Figure size 432x288 with 1 Axes>"
            ]
          },
          "metadata": {
            "tags": [],
            "needs_background": "light"
          }
        }
      ]
    },
    {
      "cell_type": "markdown",
      "metadata": {
        "id": "NZ4ID1UNR4B1"
      },
      "source": [
        "#### ***Test Model***\r\n",
        "\r\n",
        "Let's evaluate our model on the test-set:"
      ]
    },
    {
      "cell_type": "code",
      "metadata": {
        "colab": {
          "base_uri": "https://localhost:8080/"
        },
        "id": "eV7AiRElR4B1",
        "outputId": "4c336a5f-9e97-416b-9800-e54260577111"
      },
      "source": [
        "model_eval = model.evaluate(x_test, y_test_super_class_vectors) \r\n",
        "print(f\"Model loss {model_eval}\")"
      ],
      "execution_count": 35,
      "outputs": [
        {
          "output_type": "stream",
          "text": [
            "313/313 [==============================] - 1s 2ms/step - loss: 0.0045\n",
            "Model loss 0.004499251488596201\n"
          ],
          "name": "stdout"
        }
      ]
    },
    {
      "cell_type": "markdown",
      "metadata": {
        "id": "uZ9L2pA5R4B2"
      },
      "source": [
        "####  ***Predict Using Model***\r\n",
        "\r\n",
        "Let's make some predictions using our model."
      ]
    },
    {
      "cell_type": "markdown",
      "metadata": {
        "id": "Qm6jc3lGR4B3"
      },
      "source": [
        "First let's create a method to predict the label:"
      ]
    },
    {
      "cell_type": "code",
      "metadata": {
        "id": "qIRKmAidR4B3"
      },
      "source": [
        "def predict_label(img: np.ndarray) -> str:\r\n",
        "  # predict query\r\n",
        "  prediction: np.ndarray = model.predict([img])\r\n",
        "  # get top-n by cosine similarity\r\n",
        "  most_similar: List[str] = fast_text_vectors.similar_by_vector(prediction[0], topn=5)\r\n",
        "  return \", \".join([x[0] for x in most_similar])"
      ],
      "execution_count": 36,
      "outputs": []
    },
    {
      "cell_type": "code",
      "metadata": {
        "colab": {
          "base_uri": "https://localhost:8080/",
          "height": 193
        },
        "id": "Rdr4KREYR4B3",
        "outputId": "0bcae53c-ae69-4b2b-9e42-3d23c56ffa9d"
      },
      "source": [
        "# display image\r\n",
        "img: np.ndarray = x_train[0].copy()\r\n",
        "plt.figure(figsize=(2,2))\r\n",
        "plt.imshow(img)\r\n",
        "plt.show()\r\n",
        "\r\n",
        "# display prediction\r\n",
        "prediction:str = predict_label(np.expand_dims(x_train[0], axis=0))\r\n",
        "print(f\"Actual class of image: {classes[y_train[0][0]]}\")\r\n",
        "print(f\"Prediction for image: {prediction}\")"
      ],
      "execution_count": 37,
      "outputs": [
        {
          "output_type": "display_data",
          "data": {
            "image/png": "[encoded data removed]",
            "text/plain": [
              "<Figure size 144x144 with 1 Axes>"
            ]
          },
          "metadata": {
            "tags": [],
            "needs_background": "light"
          }
        },
        {
          "output_type": "stream",
          "text": [
            "Actual class of image: cattle\n",
            "Prediction for image: mammals, carnivores, animals, reptiles, insects\n"
          ],
          "name": "stdout"
        }
      ]
    },
    {
      "cell_type": "code",
      "metadata": {
        "colab": {
          "base_uri": "https://localhost:8080/",
          "height": 193
        },
        "id": "h8mQspupR4B3",
        "outputId": "a36e8c02-ccbf-4272-f41e-4e037aa13184"
      },
      "source": [
        "# display image\r\n",
        "img: np.ndarray = x_train[3000].copy()\r\n",
        "plt.figure(figsize=(2,2))\r\n",
        "plt.imshow(img)\r\n",
        "plt.show()\r\n",
        "\r\n",
        "# display prediction\r\n",
        "prediction:str = predict_label(np.expand_dims(x_train[3000], axis=0))\r\n",
        "print(f\"Actual class of image: {classes[y_train[3000][0]]}\")\r\n",
        "print(f\"Prediction for image: {prediction}\")"
      ],
      "execution_count": 38,
      "outputs": [
        {
          "output_type": "display_data",
          "data": {
            "image/png": "[encoded data removed]",
            "text/plain": [
              "<Figure size 144x144 with 1 Axes>"
            ]
          },
          "metadata": {
            "tags": [],
            "needs_background": "light"
          }
        },
        {
          "output_type": "stream",
          "text": [
            "Actual class of image: shark\n",
            "Prediction for image: mammals, reptiles, animals, vertebrates, fish\n"
          ],
          "name": "stdout"
        }
      ]
    },
    {
      "cell_type": "code",
      "metadata": {
        "colab": {
          "base_uri": "https://localhost:8080/",
          "height": 193
        },
        "id": "NGoer61NR4B3",
        "outputId": "65b8fbdb-207c-4f98-bb9f-ff01b1a4a66d"
      },
      "source": [
        "# display image\r\n",
        "img: np.ndarray = x_train[4000].copy()\r\n",
        "plt.figure(figsize=(2,2))\r\n",
        "plt.imshow(img)\r\n",
        "plt.show()\r\n",
        "\r\n",
        "# display prediction\r\n",
        "prediction:str = predict_label(np.expand_dims(x_train[4000], axis=0))\r\n",
        "print(f\"Actual class of image: {classes[y_train[4000][0]]}\")\r\n",
        "print(f\"Prediction for image: {prediction}\")"
      ],
      "execution_count": 39,
      "outputs": [
        {
          "output_type": "display_data",
          "data": {
            "image/png": "[encoded data removed]",
            "text/plain": [
              "<Figure size 144x144 with 1 Axes>"
            ]
          },
          "metadata": {
            "tags": [],
            "needs_background": "light"
          }
        },
        {
          "output_type": "stream",
          "text": [
            "Actual class of image: beetle\n",
            "Prediction for image: insects, mammals, reptiles, animals, trees\n"
          ],
          "name": "stdout"
        }
      ]
    },
    {
      "cell_type": "code",
      "metadata": {
        "colab": {
          "base_uri": "https://localhost:8080/",
          "height": 193
        },
        "id": "B_m_WbHGR4B4",
        "outputId": "f61c0524-4e32-4ab2-94d4-adc48a95084c"
      },
      "source": [
        "# display image\r\n",
        "img: np.ndarray = x_train[2000].copy()\r\n",
        "plt.figure(figsize=(2,2))\r\n",
        "plt.imshow(img)\r\n",
        "plt.show()\r\n",
        "\r\n",
        "# display prediction\r\n",
        "prediction:str = predict_label(np.expand_dims(x_train[2000], axis=0))\r\n",
        "print(f\"Actual class of image: {classes[y_train[2000][0]]}\")\r\n",
        "print(f\"Prediction for image: {prediction}\")"
      ],
      "execution_count": 40,
      "outputs": [
        {
          "output_type": "display_data",
          "data": {
            "image/png": "[encoded data removed]",
            "text/plain": [
              "<Figure size 144x144 with 1 Axes>"
            ]
          },
          "metadata": {
            "tags": [],
            "needs_background": "light"
          }
        },
        {
          "output_type": "stream",
          "text": [
            "Actual class of image: pine_tree\n",
            "Prediction for image: trees, shrubs, tree, forests, animals\n"
          ],
          "name": "stdout"
        }
      ]
    },
    {
      "cell_type": "code",
      "metadata": {
        "colab": {
          "base_uri": "https://localhost:8080/",
          "height": 193
        },
        "id": "uK7d-ZcuR4B4",
        "outputId": "7aa43f26-9efe-4502-d669-39e58950ed68"
      },
      "source": [
        "# display image\r\n",
        "img: np.ndarray = x_train[1200].copy()\r\n",
        "plt.figure(figsize=(2,2))\r\n",
        "plt.imshow(img)\r\n",
        "plt.show()\r\n",
        "\r\n",
        "# display prediction\r\n",
        "prediction:str = predict_label(np.expand_dims(x_train[1200], axis=0))\r\n",
        "print(f\"Actual class of image: {classes[y_train[1200][0]]}\")\r\n",
        "print(f\"Prediction for image: {prediction}\")"
      ],
      "execution_count": 41,
      "outputs": [
        {
          "output_type": "display_data",
          "data": {
            "image/png": "[encoded data removed]",
            "text/plain": [
              "<Figure size 144x144 with 1 Axes>"
            ]
          },
          "metadata": {
            "tags": [],
            "needs_background": "light"
          }
        },
        {
          "output_type": "stream",
          "text": [
            "Actual class of image: television\n",
            "Prediction for image: animals, reptiles, fish, vegetables, mammals\n"
          ],
          "name": "stdout"
        }
      ]
    },
    {
      "cell_type": "markdown",
      "metadata": {
        "id": "iTVq5vytSRae"
      },
      "source": [
        "### ***Try Three***\r\n",
        "\r\n",
        "First we will try with prediction vectors made from class and super class string."
      ]
    },
    {
      "cell_type": "markdown",
      "metadata": {
        "id": "6d8EPDc-SRam"
      },
      "source": [
        "#### ***Pre Process images***"
      ]
    },
    {
      "cell_type": "code",
      "metadata": {
        "id": "kasYfXB0SRan"
      },
      "source": [
        "x_train_preprocessed: np.ndarray = x_train.astype('float32')\r\n",
        "x_test_preprocessed: np.ndarray = x_test.astype('float32')\r\n",
        "x_train_preprocessed /= 255.0\r\n",
        "x_test_preprocessed /= 255.0"
      ],
      "execution_count": 42,
      "outputs": []
    },
    {
      "cell_type": "markdown",
      "metadata": {
        "id": "UvBA-cpfSRan"
      },
      "source": [
        "#### ***Train Model***\r\n",
        "Let's build a simple CNN model to predict our image vectors:"
      ]
    },
    {
      "cell_type": "code",
      "metadata": {
        "colab": {
          "base_uri": "https://localhost:8080/"
        },
        "id": "NBoLf8eaSRan",
        "outputId": "7da91b9a-6997-4c0d-809a-8484505366f4"
      },
      "source": [
        "# Params for model\r\n",
        "input_shape: Tuple = (32, 32, 3)\r\n",
        "chan_dim: int = -1\r\n",
        "\r\n",
        "#Create model\r\n",
        "model = Sequential()\r\n",
        "\r\n",
        "# Add CNN layers\r\n",
        "#  Stack 1:\r\n",
        "model.add(Conv2D(32, (3, 3), padding='same', input_shape=input_shape))\r\n",
        "model.add(Activation('relu'))\r\n",
        "model.add(BatchNormalization(axis=chan_dim))\r\n",
        "model.add(MaxPooling2D(pool_size=(2, 2)))\r\n",
        "model.add(Dropout(0.25))\r\n",
        "\r\n",
        "# Stack 2:\r\n",
        "model.add(Conv2D(64, (3, 3), padding='same'))\r\n",
        "model.add(Activation('relu'))\r\n",
        "model.add(BatchNormalization(axis=chan_dim))\r\n",
        "model.add(MaxPooling2D(pool_size=(2, 2)))\r\n",
        "model.add(Dropout(0.25))\r\n",
        "\r\n",
        "# Stack 3:\r\n",
        "model.add(Conv2D(64, (3, 3), padding='same'))\r\n",
        "model.add(Activation('relu'))\r\n",
        "model.add(BatchNormalization(axis=chan_dim))\r\n",
        "model.add(MaxPooling2D(pool_size=(2, 2)))\r\n",
        "model.add(Dropout(0.25))\r\n",
        "\r\n",
        "# Stack 4:\r\n",
        "model.add(Flatten())\r\n",
        "model.add(Dense(300))\r\n",
        "model.add(Activation('relu'))\r\n",
        "model.add(BatchNormalization())\r\n",
        "model.add(Dropout(0.5))\r\n",
        "\r\n",
        "# output layer:\r\n",
        "model.add(Dense(300))\r\n",
        "\r\n",
        "# print model structure\r\n",
        "model.summary()"
      ],
      "execution_count": 43,
      "outputs": [
        {
          "output_type": "stream",
          "text": [
            "Model: \"sequential_2\"\n",
            "_________________________________________________________________\n",
            "Layer (type)                 Output Shape              Param #   \n",
            "=================================================================\n",
            "conv2d_6 (Conv2D)            (None, 32, 32, 32)        896       \n",
            "_________________________________________________________________\n",
            "activation_8 (Activation)    (None, 32, 32, 32)        0         \n",
            "_________________________________________________________________\n",
            "batch_normalization_8 (Batch (None, 32, 32, 32)        128       \n",
            "_________________________________________________________________\n",
            "max_pooling2d_6 (MaxPooling2 (None, 16, 16, 32)        0         \n",
            "_________________________________________________________________\n",
            "dropout_8 (Dropout)          (None, 16, 16, 32)        0         \n",
            "_________________________________________________________________\n",
            "conv2d_7 (Conv2D)            (None, 16, 16, 64)        18496     \n",
            "_________________________________________________________________\n",
            "activation_9 (Activation)    (None, 16, 16, 64)        0         \n",
            "_________________________________________________________________\n",
            "batch_normalization_9 (Batch (None, 16, 16, 64)        256       \n",
            "_________________________________________________________________\n",
            "max_pooling2d_7 (MaxPooling2 (None, 8, 8, 64)          0         \n",
            "_________________________________________________________________\n",
            "dropout_9 (Dropout)          (None, 8, 8, 64)          0         \n",
            "_________________________________________________________________\n",
            "conv2d_8 (Conv2D)            (None, 8, 8, 64)          36928     \n",
            "_________________________________________________________________\n",
            "activation_10 (Activation)   (None, 8, 8, 64)          0         \n",
            "_________________________________________________________________\n",
            "batch_normalization_10 (Batc (None, 8, 8, 64)          256       \n",
            "_________________________________________________________________\n",
            "max_pooling2d_8 (MaxPooling2 (None, 4, 4, 64)          0         \n",
            "_________________________________________________________________\n",
            "dropout_10 (Dropout)         (None, 4, 4, 64)          0         \n",
            "_________________________________________________________________\n",
            "flatten_2 (Flatten)          (None, 1024)              0         \n",
            "_________________________________________________________________\n",
            "dense_4 (Dense)              (None, 300)               307500    \n",
            "_________________________________________________________________\n",
            "activation_11 (Activation)   (None, 300)               0         \n",
            "_________________________________________________________________\n",
            "batch_normalization_11 (Batc (None, 300)               1200      \n",
            "_________________________________________________________________\n",
            "dropout_11 (Dropout)         (None, 300)               0         \n",
            "_________________________________________________________________\n",
            "dense_5 (Dense)              (None, 300)               90300     \n",
            "=================================================================\n",
            "Total params: 455,960\n",
            "Trainable params: 455,040\n",
            "Non-trainable params: 920\n",
            "_________________________________________________________________\n"
          ],
          "name": "stdout"
        }
      ]
    },
    {
      "cell_type": "markdown",
      "metadata": {
        "id": "M9BosFARSRao"
      },
      "source": [
        "Next let's compile the model using MSE as our loss metric:"
      ]
    },
    {
      "cell_type": "code",
      "metadata": {
        "id": "J-pfqjDZSRao"
      },
      "source": [
        "model.compile(optimizer=Adam(learning_rate=0.001), loss='mean_squared_error')"
      ],
      "execution_count": 44,
      "outputs": []
    },
    {
      "cell_type": "markdown",
      "metadata": {
        "id": "2E7x-umMSRap"
      },
      "source": [
        "Now let's train the model:"
      ]
    },
    {
      "cell_type": "code",
      "metadata": {
        "colab": {
          "base_uri": "https://localhost:8080/"
        },
        "id": "08SqUzzzSRap",
        "outputId": "10414f0b-8194-4bba-ad26-00df2fbfc160"
      },
      "source": [
        "history = model.fit(x_train, y_train_combined_vectors, epochs=10, \r\n",
        "                    shuffle=True, batch_size=32)"
      ],
      "execution_count": 45,
      "outputs": [
        {
          "output_type": "stream",
          "text": [
            "Epoch 1/10\n",
            "1563/1563 [==============================] - 7s 4ms/step - loss: 0.3756\n",
            "Epoch 2/10\n",
            "1563/1563 [==============================] - 6s 4ms/step - loss: 0.0082\n",
            "Epoch 3/10\n",
            "1563/1563 [==============================] - 6s 4ms/step - loss: 0.0089\n",
            "Epoch 4/10\n",
            "1563/1563 [==============================] - 6s 4ms/step - loss: 0.0087\n",
            "Epoch 5/10\n",
            "1563/1563 [==============================] - 6s 4ms/step - loss: 0.0084\n",
            "Epoch 6/10\n",
            "1563/1563 [==============================] - 6s 4ms/step - loss: 0.0076\n",
            "Epoch 7/10\n",
            "1563/1563 [==============================] - 6s 4ms/step - loss: 0.0073\n",
            "Epoch 8/10\n",
            "1563/1563 [==============================] - 6s 4ms/step - loss: 0.0071\n",
            "Epoch 9/10\n",
            "1563/1563 [==============================] - 6s 4ms/step - loss: 0.0070\n",
            "Epoch 10/10\n",
            "1563/1563 [==============================] - 6s 4ms/step - loss: 0.0069\n"
          ],
          "name": "stdout"
        }
      ]
    },
    {
      "cell_type": "markdown",
      "metadata": {
        "id": "3AJWlYrGSRap"
      },
      "source": [
        "Lets see our model performance:"
      ]
    },
    {
      "cell_type": "code",
      "metadata": {
        "colab": {
          "base_uri": "https://localhost:8080/",
          "height": 295
        },
        "id": "ileM2ENpSRap",
        "outputId": "345f667b-597e-4237-927d-4ed3a104c54b"
      },
      "source": [
        "plt.plot(history.history['loss'])\r\n",
        "plt.title('model loss')\r\n",
        "plt.ylabel('loss')\r\n",
        "plt.xlabel('epoch')\r\n",
        "plt.legend(['train'], loc='upper left')\r\n",
        "plt.show()"
      ],
      "execution_count": 46,
      "outputs": [
        {
          "output_type": "display_data",
          "data": {
            "image/png": "[encoded data removed]",
            "text/plain": [
              "<Figure size 432x288 with 1 Axes>"
            ]
          },
          "metadata": {
            "tags": [],
            "needs_background": "light"
          }
        }
      ]
    },
    {
      "cell_type": "markdown",
      "metadata": {
        "id": "gKq5msDbSRaq"
      },
      "source": [
        "#### ***Test Model***\r\n",
        "\r\n",
        "Let's evaluate our model on the test-set:"
      ]
    },
    {
      "cell_type": "code",
      "metadata": {
        "colab": {
          "base_uri": "https://localhost:8080/"
        },
        "id": "ZfWzrrgtSRaq",
        "outputId": "73188ff2-a4e0-4ee3-8c37-798104e93984"
      },
      "source": [
        "model_eval = model.evaluate(x_test, y_test_combined_vectors) \r\n",
        "print(f\"Model loss {model_eval}\")"
      ],
      "execution_count": 47,
      "outputs": [
        {
          "output_type": "stream",
          "text": [
            "313/313 [==============================] - 1s 2ms/step - loss: 0.0069\n",
            "Model loss 0.006859072018414736\n"
          ],
          "name": "stdout"
        }
      ]
    },
    {
      "cell_type": "markdown",
      "metadata": {
        "id": "mxDj07zTSRaq"
      },
      "source": [
        "####  ***Predict Using Model***\r\n",
        "\r\n",
        "Let's make some predictions using our model."
      ]
    },
    {
      "cell_type": "markdown",
      "metadata": {
        "id": "Qw6xGqqCSRaq"
      },
      "source": [
        "First let's create a method to predict the label:"
      ]
    },
    {
      "cell_type": "code",
      "metadata": {
        "id": "8c-0Q_0GSRaq"
      },
      "source": [
        "def predict_label(img: np.ndarray) -> str:\r\n",
        "  # predict query\r\n",
        "  prediction: np.ndarray = model.predict([img])\r\n",
        "  # get top-n by cosine similarity\r\n",
        "  most_similar: List[str] = fast_text_vectors.similar_by_vector(prediction[0], topn=5)\r\n",
        "  return \", \".join([x[0] for x in most_similar])"
      ],
      "execution_count": 48,
      "outputs": []
    },
    {
      "cell_type": "code",
      "metadata": {
        "colab": {
          "base_uri": "https://localhost:8080/",
          "height": 193
        },
        "id": "p8uR1ra0SRaq",
        "outputId": "438e683d-82f9-4e16-c4b1-efcd4f049ba6"
      },
      "source": [
        "# display image\r\n",
        "img: np.ndarray = x_train[0].copy()\r\n",
        "plt.figure(figsize=(2,2))\r\n",
        "plt.imshow(img)\r\n",
        "plt.show()\r\n",
        "\r\n",
        "# display prediction\r\n",
        "prediction:str = predict_label(np.expand_dims(x_train[0], axis=0))\r\n",
        "print(f\"Actual class of image: {classes[y_train[0][0]]}\")\r\n",
        "print(f\"Prediction for image: {prediction}\")"
      ],
      "execution_count": 49,
      "outputs": [
        {
          "output_type": "display_data",
          "data": {
            "image/png": "[encoded data removed]",
            "text/plain": [
              "<Figure size 144x144 with 1 Axes>"
            ]
          },
          "metadata": {
            "tags": [],
            "needs_background": "light"
          }
        },
        {
          "output_type": "stream",
          "text": [
            "Actual class of image: cattle\n",
            "Prediction for image: car, truck, house, animal, man\n"
          ],
          "name": "stdout"
        }
      ]
    },
    {
      "cell_type": "code",
      "metadata": {
        "colab": {
          "base_uri": "https://localhost:8080/",
          "height": 193
        },
        "id": "VH7P9MhfSRar",
        "outputId": "8374d1ad-1d82-4cc5-8e26-14d2b1d2e4de"
      },
      "source": [
        "# display image\r\n",
        "img: np.ndarray = x_train[3000].copy()\r\n",
        "plt.figure(figsize=(2,2))\r\n",
        "plt.imshow(img)\r\n",
        "plt.show()\r\n",
        "\r\n",
        "# display prediction\r\n",
        "prediction:str = predict_label(np.expand_dims(x_train[3000], axis=0))\r\n",
        "print(f\"Actual class of image: {classes[y_train[3000][0]]}\")\r\n",
        "print(f\"Prediction for image: {prediction}\")"
      ],
      "execution_count": 50,
      "outputs": [
        {
          "output_type": "display_data",
          "data": {
            "image/png": "[encoded data removed]",
            "text/plain": [
              "<Figure size 144x144 with 1 Axes>"
            ]
          },
          "metadata": {
            "tags": [],
            "needs_background": "light"
          }
        },
        {
          "output_type": "stream",
          "text": [
            "Actual class of image: shark\n",
            "Prediction for image: fish, animal, mammal, creature, species\n"
          ],
          "name": "stdout"
        }
      ]
    },
    {
      "cell_type": "code",
      "metadata": {
        "colab": {
          "base_uri": "https://localhost:8080/",
          "height": 193
        },
        "id": "kb1Ew0h7SRar",
        "outputId": "5cbed921-e8f1-45cc-83dc-136efdb53168"
      },
      "source": [
        "# display image\r\n",
        "img: np.ndarray = x_train[4000].copy()\r\n",
        "plt.figure(figsize=(2,2))\r\n",
        "plt.imshow(img)\r\n",
        "plt.show()\r\n",
        "\r\n",
        "# display prediction\r\n",
        "prediction:str = predict_label(np.expand_dims(x_train[4000], axis=0))\r\n",
        "print(f\"Actual class of image: {classes[y_train[4000][0]]}\")\r\n",
        "print(f\"Prediction for image: {prediction}\")"
      ],
      "execution_count": 51,
      "outputs": [
        {
          "output_type": "display_data",
          "data": {
            "image/png": "[encoded data removed]",
            "text/plain": [
              "<Figure size 144x144 with 1 Axes>"
            ]
          },
          "metadata": {
            "tags": [],
            "needs_background": "light"
          }
        },
        {
          "output_type": "stream",
          "text": [
            "Actual class of image: beetle\n",
            "Prediction for image: insect, insects, beetle, species, cockroach\n"
          ],
          "name": "stdout"
        }
      ]
    },
    {
      "cell_type": "code",
      "metadata": {
        "colab": {
          "base_uri": "https://localhost:8080/",
          "height": 193
        },
        "id": "sqfaWbl3SRar",
        "outputId": "dc6792a6-1b1d-4afd-e51e-4cb86d06d6ae"
      },
      "source": [
        "# display image\r\n",
        "img: np.ndarray = x_train[2000].copy()\r\n",
        "plt.figure(figsize=(2,2))\r\n",
        "plt.imshow(img)\r\n",
        "plt.show()\r\n",
        "\r\n",
        "# display prediction\r\n",
        "prediction:str = predict_label(np.expand_dims(x_train[2000], axis=0))\r\n",
        "print(f\"Actual class of image: {classes[y_train[2000][0]]}\")\r\n",
        "print(f\"Prediction for image: {prediction}\")"
      ],
      "execution_count": 52,
      "outputs": [
        {
          "output_type": "display_data",
          "data": {
            "image/png": "[encoded data removed]",
            "text/plain": [
              "<Figure size 144x144 with 1 Axes>"
            ]
          },
          "metadata": {
            "tags": [],
            "needs_background": "light"
          }
        },
        {
          "output_type": "stream",
          "text": [
            "Actual class of image: pine_tree\n",
            "Prediction for image: trees, tree, forest, pine, wood\n"
          ],
          "name": "stdout"
        }
      ]
    },
    {
      "cell_type": "code",
      "metadata": {
        "colab": {
          "base_uri": "https://localhost:8080/",
          "height": 193
        },
        "id": "aVKsjxxfSRar",
        "outputId": "ae21fd5a-27b8-46c9-97d1-91b85132359a"
      },
      "source": [
        "# display image\r\n",
        "img: np.ndarray = x_train[1200].copy()\r\n",
        "plt.figure(figsize=(2,2))\r\n",
        "plt.imshow(img)\r\n",
        "plt.show()\r\n",
        "\r\n",
        "# display prediction\r\n",
        "prediction:str = predict_label(np.expand_dims(x_train[1200], axis=0))\r\n",
        "print(f\"Actual class of image: {classes[y_train[1200][0]]}\")\r\n",
        "print(f\"Prediction for image: {prediction}\")"
      ],
      "execution_count": 53,
      "outputs": [
        {
          "output_type": "display_data",
          "data": {
            "image/png": "[encoded data removed]",
            "text/plain": [
              "<Figure size 144x144 with 1 Axes>"
            ]
          },
          "metadata": {
            "tags": [],
            "needs_background": "light"
          }
        },
        {
          "output_type": "stream",
          "text": [
            "Actual class of image: television\n",
            "Prediction for image: house, room, clothes, kitchen, car\n"
          ],
          "name": "stdout"
        }
      ]
    },
    {
      "cell_type": "markdown",
      "metadata": {
        "id": "5PSzWs3EVu_3"
      },
      "source": [
        "## ***Conclusion***\r\n",
        "\r\n",
        "As we can see in all the three models we tried the loss is low as expected from a regression problem. Some of the predictions are good and some are not accurate probably because of the similarity between vectors. To conclude we presented a model that is trained on cifar100 that can predict images with labels not in the dataset because of the use of fast text vectors.\r\n",
        "\r\n",
        "Lest just save our model(we will save the combine class and super class):"
      ]
    },
    {
      "cell_type": "code",
      "metadata": {
        "id": "WiWIWBneWbZJ"
      },
      "source": [
        "model.save(\"image_classification_model.h5\")"
      ],
      "execution_count": 54,
      "outputs": []
    }
  ]
}